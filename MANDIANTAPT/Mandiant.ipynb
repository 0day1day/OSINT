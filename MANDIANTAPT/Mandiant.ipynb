{
 "metadata": {
  "name": ""
 },
 "nbformat": 3,
 "nbformat_minor": 0,
 "worksheets": [
  {
   "cells": [
    {
     "cell_type": "code",
     "collapsed": false,
     "input": [
      "!ls"
     ],
     "language": "python",
     "metadata": {},
     "outputs": [
      {
       "output_type": "stream",
       "stream": "stdout",
       "text": [
        "APT-Maxmind-Enrichment-Product-2013-07-14-09-25-42.csv\t   get_fqdns.py  makmind2_test.py\tMandiant.ipynb\t\toutput\t      spitball.py\r\n",
        "APT-VirusTotal-Enrichment-Product-2013-07-14-21-37-16.csv  __init__.py\t mandiant_apt_list.txt\tnetworkx_clustering.py\tprobe_apt.py\r\n"
       ]
      }
     ],
     "prompt_number": 1
    },
    {
     "cell_type": "code",
     "collapsed": false,
     "input": [
      "%load spitball.py"
     ],
     "language": "python",
     "metadata": {},
     "outputs": [],
     "prompt_number": 2
    },
    {
     "cell_type": "code",
     "collapsed": false,
     "input": [
      "__date__ = \"03082014\"\n",
      "__author__ = \"AlienOne\"\n",
      "__copyright__ = \"GPL\"\n",
      "__credits__ = [\"AlienOne\"]\n",
      "__license__ = \"GPL\"\n",
      "__version__ = \"0.0.7\"\n",
      "__maintainer__ = \"AlienOne\"\n",
      "__email__ = \"ali3n0ne@alienone.org\"\n",
      "__status__ = \"Prototype\"\n",
      "\n",
      "\n",
      "import requests\n",
      "import csv\n",
      "from pandas import DataFrame\n",
      "\n",
      "\n",
      "def getData():\n",
      "    \"\"\"Get CSV Mandiant Data Set - output list data structure\"\"\"\n",
      "    response = requests.get(\"https://raw.github.com/alienone/OSINT/master/MANDIANTAPT/APT-Maxmind-Enrichment-Product-2013-07-14-09-25-42.csv\")\n",
      "    iterResponse = response.iter_lines()\n",
      "    next(iterResponse)\n",
      "    for line in iterResponse:\n",
      "        yield line.split(',')\n",
      "\n",
      "\n",
      "def create_nodes(args=list):\n",
      "    \"\"\"Create list of dicts - each dict will represent a node\"\"\"\n",
      "    list_dicts = []\n",
      "    for prodList in getData():\n",
      "        if len(prodList[0]) != 0:\n",
      "            dict_object = dict(zip(args, prodList))\n",
      "            list_dicts.append(dict_object)\n",
      "    return list_dicts\n",
      "\n",
      "\n",
      "def clusterData(args, column_name):\n",
      "    \"\"\"Leverage Panadas Groupby to cluster nodes by ASN - Then convert resulting DataFrames into list dicts by cluster\"\"\"\n",
      "    gd = DataFrame(create_nodes(args)).groupby(column_name)\n",
      "    asn_groups = [x[0] for x in gd]\n",
      "    for asn in asn_groups:\n",
      "        df = gd.get_group(asn)\n",
      "        create_dict = [{k: df.values[i][v] for v, k in enumerate(df.columns)} for i in range(len(df))]\n",
      "        yield create_dict\n",
      "\n",
      "\n",
      "def normalize_cluster(cluster):\n",
      "    \"\"\"Return dicitonary object with value lists\"\"\"\n",
      "    normalized_cluster = {'ASN': [], 'FQDN': []}\n",
      "    del normalized_cluster['ASN'][:]\n",
      "    del normalized_cluster['FQDN'][:]\n",
      "    for node in cluster:\n",
      "        for k, v in node.items():\n",
      "            normalized_cluster[k].append(v)\n",
      "    return normalized_cluster\n",
      "\n",
      "\n",
      "def get_attributes(asn_str, csv_file):\n",
      "    \"\"\"Lookup additional attributes to add to final product\"\"\"\n",
      "    with open(csv_file, 'rb') as fh:\n",
      "        for item in fh:\n",
      "            data = item.split(',')\n",
      "            if asn_str in data:\n",
      "                    asn_ip = data[2]\n",
      "                    lat_lon = data[8:10]\n",
      "                    country = data[4:5]\n",
      "                    return lat_lon, country, asn_ip\n",
      "\n",
      "\n",
      "def normalized_nodes(csv_file):\n",
      "    \"\"\"Remove duplicates, add additional attributes\"\"\"\n",
      "    results_list = []\n",
      "    args = [\"FQDN\", \"ASN\"]\n",
      "    column_name = 'ASN'\n",
      "    for cluster in clusterData(args, column_name):\n",
      "        results_list.append(normalize_cluster(cluster))\n",
      "    for node in results_list:\n",
      "        asn_str = list(set(node['ASN']))[0]\n",
      "        keys = ['ASN', 'ASN IP', 'FQDN', 'LatLon', 'Locale']\n",
      "        values = list(set(node['ASN']))[0], get_attributes(asn_str, csv_file)[2], list(set(node['FQDN'])), \\\n",
      "        get_attributes(asn_str, csv_file)[0], \\\n",
      "                 get_attributes(asn_str, csv_file)[1][0]\n",
      "        dict_obj = dict(zip(keys, values))\n",
      "        yield dict_obj\n",
      "\n",
      "\n",
      "def main():\n",
      "    \"\"\"Display nodes and write Country, Latitude/Longitude to CSV for D3.js World Map Display\"\"\"\n",
      "    csv_file = \"APT-Maxmind-Enrichment-Product-2013-07-14-09-25-42.csv\"\n",
      "    for node in normalized_nodes(csv_file):\n",
      "        print(node)\n",
      "\n",
      "\n",
      "if __name__ == '__main__':\n",
      "    main()\n"
     ],
     "language": "python",
     "metadata": {},
     "outputs": [
      {
       "output_type": "stream",
       "stream": "stdout",
       "text": [
        "{'LatLon': ['33.7516', '-84.3915'], 'Locale': 'United States', 'ASN IP': '64.74.223.46', 'ASN': '12182', 'FQDN': ['newstar.reutersnewsonline.com', 'online.reutersnewsonline.com', 'program.reutersnewsonline.com', 'fuck.reutersnewsonline.com', 'm.cslisten.com', 'pro.reutersnewsonline.com', 'help.reutersnewsonline.com', 'e.reutersnewsonline.com', 'update.reutersnewsonline.com']}\n",
        "{'LatLon': ['34.0438', '-118.2512'], 'Locale': 'United States', 'ASN IP': '23.19.7.190', 'ASN': '15003', 'FQDN': ['firefoxupdata.com']}\n",
        "{'LatLon': ['38.0000', '-97.0000'], 'Locale': 'United States', 'ASN IP': '8.8.8.8', 'ASN': '15169', 'FQDN': ['crackling123.appspot.com', 'aol.infobusinessus.org', 'firefoxupdata.com', 'christitannahill.appspot.com', 'johnford985.appspot.com']}\n",
        "{'LatLon': ['38.0000', '-97.0000'], 'Locale': 'United States', 'ASN IP': '207.200.111.13', 'ASN': '1668', 'FQDN': ['www.arrowservice.net']}\n",
        "{'LatLon': ['32.8795', '-96.9398'], 'Locale': 'United States', 'ASN IP': '66.228.132.53', 'ASN': '19337', 'FQDN': ['papper.booksonlineclub.com', 'triu.booksonlineclub.com', 'new.booksonlineclub.com']}\n",
        "{'LatLon': ['38.9266', '-77.3936'], 'Locale': 'United States', 'ASN IP': '206.188.192.46', 'ASN': '19871', 'FQDN': ['www.busketball.com']}\n",
        "{'LatLon': ['51.5142', '-0.0931'], 'Locale': 'United Kingdom', 'ASN IP': '78.129.222.122', 'ASN': '20860', 'FQDN': ['a-jsm.infobusinessus.org']}\n",
        "{'LatLon': ['33.7516', '-84.3915'], 'Locale': 'United States', 'ASN IP': '64.74.223.42', 'ASN': '21740', 'FQDN': ['www.skyswim.net', 'webservicesupdate.com', 'cslisten.com', 'support.livemymsn.com', 'flash.livemymsn.com', 'source.livemymsn.com', 'wangye.reutersnewsonline.com', 'book.reutersnewsonline.com', 'online.livemymsn.com', 'news.reutersnewsonline.com', 'livemymsn.com', 'dns.webservicesupdate.com', 'blow.reutersnewsonline.com', 'solar.reutersnewsonline.com', 'coer.reutersnewsonline.com', 'www.webservicesupdate.com', 'pda.reutersnewsonline.com', 'eee.reutersnewsonline.com', 'phe.reutersnewsonline.com', 'vedio.reutersnewsonline.com', 'skyswim.net', 'reutersnewsonline.com', 'coe.reutersnewsonline.com', 'home.reutersnewsonline.com', 'support.webservicesupdate.com', 'auto.livemymsn.com', 'www.livemymsn.com', 'update.livemymsn.com', 'web.webservicesupdate.com', 'maria.reutersnewsonline.com']}\n",
        "{'LatLon': ['34.0522', '-118.2437'], 'Locale': 'United States', 'ASN IP': '184.82.228.72', 'ASN': '21788', 'FQDN': ['ns.issnbgkit.net', 'host.issnbgkit.net', 'news.issnbgkit.net', 'sites.progammerli.com', 'send.issnbgkit.net', 'issnbgkit.net', 'dns.progammerli.com', 'vip.issnbgkit.net', 'time.issnbgkit.net', 'dns.issnbgkit.net', 'log.issnbgkit.net', 'test.issnbgkit.net', 'https.progammerli.com', 'us.issnbgkit.net', 'logs.issnbgkit.net', 'update.progammerli.com', 'progammerli.com', 'service.issnbgkit.net']}\n",
        "{'LatLon': ['32.8073', '-117.1324'], 'Locale': 'United States', 'ASN IP': '69.43.161.167', 'ASN': '22489', 'FQDN': ['finance.cnnnewsdaily.com', 'report.cnnnewsdaily.com', 'news.cnnnewsdaily.com', '911.cnnnewsdaily.com', 'fashion.cnnnewsdaily.com', 'soft.cnnnewsdaily.com', 'cnnnewsdaily.com', 'cost.cnnnewsdaily.com', 'file.cnnnewsdaily.com', 'pack.cnnnewsdaily.com', 'content.cnnnewsdaily.com']}\n",
        "{'LatLon': ['41.8119', '-87.6873'], 'Locale': 'United States', 'ASN IP': '204.93.130.138', 'ASN': '23352', 'FQDN': ['www.nirvanaol.com']}\n",
        "{'LatLon': ['36.0000', '138.0000'], 'Locale': 'Japan', 'ASN IP': '106.186.16.96', 'ASN': '2516', 'FQDN': ['webmail.usabbs.org', 'www.jobsadvanced.com', 'geology.pop-musicsite.com', 'mail.usabbs.org', 'mail.usnewssite.com', 'wave.pop-musicsite.com', 'flash.jobsadvanced.com', 'system.satellitebbs.com', 'finance.usabbs.org', 'zone.todayusa.org', 'www.online.mcafeepaying.com', 'sells.usnewssite.com', 'www.symanteconline.net', 'africa.usabbs.org', 'africa.todayusa.org', 'smtp.usnewssite.com', 'news.micyuisyahooapis.com', 'cw.nationtour.net', 'fs.mcafeepaying.com', 'news.newsonlinesite.com', 'smtp.mcafeepaying.com', 'smtp.satellitebbs.com', 'e.usabbs.org', 'army.todayusa.org', 'symanteconline.net', 'business.yahoodaily.com', 'email.pop-musicsite.com', 'news.satellitebbs.com', 'defense.usabbs.org', 'contact.yahoodaily.com', 'pop.pop-musicsite.com', 'www.maltempata.com', 'news.symanteconline.net', 'www.pop-musicsite.com', 'smtp.todayusa.org', 'finance.usnewssite.com', 'finance.todayusa.org', 'pop.micyuisyahooapis.com', 'function.symanteconline.net', 'mail.voiceofman.com', 'world.nationtour.net', 'stone.symanteconline.net', 'launch.todayusa.org', 'shop.pop-musicsite.com', 'email.yahoodaily.com', 'star.satellitebbs.com', 'iamge.usabbs.org', 'japan.yahoodaily.com', 'news.pop-musicsite.com', 'ftp.jobsadvanced.com', 'smtp.micyuisyahooapis.com', 'pop.satellitebbs.com', 'happy.nationtour.net', 'cw.pop-musicsite.com', 'health.jobsadvanced.com', 'smtp.yahoodaily.com', 'ks.mcafeepaying.com', 'news.mcafeepaying.com', 'www.todayusa.org', 'update.usabbs.org', 'indonesia.newsonlinesite.com', 'eu.usabbs.org', 'business.satellitebbs.com', 'webmail.yahoodaily.com', 'suffering.nationtour.net', 'share.jobsadvanced.com', 'pop.newsonlinesite.com', 'mail.yahoodaily.com', 'music.pop-musicsite.com', 'newsonlinesite.com', 'email.todayusa.org', 'dating.satellitebbs.com', 'ftp.micyuisyahooapis.com', 'mail.symanteconline.net', 'fax.micyuisyahooapis.com', 'work.satellitebbs.com', 'online.pop-musicsite.com', 'email.usabbs.org', 'email.satellitebbs.com', 'smtp.pop-musicsite.com', 'pop.todayusa.org', 'pop.mcafeepaying.com', 'fax.pop-musicsite.com', 'webmail.satellitebbs.com', 'music.todayusa.org', 'ftp.voiceofman.com', 'smtp.voiceofman.com', 'signal.satellitebbs.com', 'smtp.usabbs.org', 'e.yahoodaily.com', 'pop.voiceofman.com', 'email.jobsadvanced.com', 'flash.mcafeepaying.com', 'travel.nationtour.net', 'job.yahoodaily.com', 'object.todayusa.org', 'magazine.yahoodaily.com', 'safety.newsonlinesite.com', 'news.todayusa.org', 'media.jobsadvanced.com', 'usnewssite.com', 'book.pop-musicsite.com', 'basketball.todayusa.org', 'www.satellitebbs.com', 'e.satellitebbs.com', 'finance.newsonlinesite.com', 'info.mcafeepaying.com', 'auto.mcafeepaying.com', 'news.voiceofman.com', 'job.jobsadvanced.com', 'ftp.usabbs.org', 'maltempata.com', 'email.mcafeepaying.com', 'nationtour.net', 'update.satellitebbs.com', 'webmail.usnewssite.com', 'goverment.usabbs.org', 'engineering.newsonlinesite.com', 'ftp.symanteconline.net', 'work.yahoodaily.com', 'shop.newsonlinesite.com', 'image.usnewssite.com', 'sales.usnewssite.com', 'global.pop-musicsite.com', 'www.micyuisyahooapis.com', 'sports.yahoodaily.com', 'security.symanteconline.net', 'www.nationtour.net', 'mail.todayusa.org', 'mail.satellitebbs.com', 'pop.usnewssite.com', 'micyuisyahooapis.com', 'media.mcafeepaying.com', 'newyork.usabbs.org', 'news.nationtour.net', 'www.newsonlinesite.com', 'update.mcafeepaying.com', 'work.jobsadvanced.com', 'usabbs.org', 'coe.nationtour.net', 'first.voiceofman.com', 'energy.nationtour.net', 'business.jobsadvanced.com', 'email.newsonlinesite.com', 'pop.usabbs.org', 'ftp.todayusa.org', 'ftp.newsonlinesite.com', 'information.jobsadvanced.com', 'sports.todayusa.org', 'mail.newsonlinesite.com', 'support.symanteconline.net', 'documents.nationtour.net', 'fax.symanteconline.net', 'image.satellitebbs.com', 'nes.nationtour.net', 'africa.mcafeepaying.com', 'listen.pop-musicsite.com', 'engine.usabbs.org', 'info.symanteconline.net', 'product.satellitebbs.com', 'service.symanteconline.net', 'support.mcafeepaying.com', 'mail.jobsadvanced.com', 'sports.newsonlinesite.com', 'sports.voiceofman.com', 'webmail.todayusa.org', 'lost.yahoodaily.com', 'email.micyuisyahooapis.com', 'support.satellitebbs.com', 'satellitebbs.com', 'www.usabbs.org', 'support.voiceofman.com', 'image.usabbs.org', 'e.usnewssite.com', 'star.usabbs.org', 'download.voiceofman.com', 'army.newsonlinesite.com', 'suffering.mcafeepaying.com', 'email.voiceofman.com', 'contact.jobsadvanced.com', 'rou.pop-musicsite.com', 'daily.newsonlinesite.com', 'stone.pop-musicsite.com', 'news.jobsadvanced.com', 'it.newsonlinesite.com', 'ks.usnewssite.com', 'email.usnewssite.com', 'chicken.pop-musicsite.com', 'voiceofman.com', 'documents.voiceofman.com', 'e.todayusa.org', 'compute.satellitebbs.com', 'energy.pop-musicsite.com', 'work.todayusa.org', 'shop.yahoodaily.com', 'care.satellitebbs.com', 'education.jobsadvanced.com', 'online.mcafeepaying.com', 'teach.usabbs.org', 'news.yahoodaily.com', 'sports.usnewssite.com', 'flash.yahoodaily.com', 'yahoodaily.com', 'code.jobsadvanced.com', 'fax.mcafeepaying.com', 'care.jobsadvanced.com', 'mail.pop-musicsite.com', 'pop.jobsadvanced.com', 'pop-musicsite.com', 'finance.yahoodaily.com', 'fax.voiceofman.com', 'ks.yahoodaily.com', 'ftp.mcafeepaying.com', 'media.usnewssite.com', 'ks.jobsadvanced.com', 'media.yahoodaily.com', 'support.todayusa.org', 'energy.usabbs.org', 'flash.usnewssite.com', 'update.todayusa.org', 'security.nationtour.net', 'date.voiceofman.com', 'code.mcafeepaying.com', 'ftp.satellitebbs.com', 'pop.yahoodaily.com', 'satellite.yahoodaily.com', 'smtp.newsonlinesite.com', 'www.mcafeepaying.com', 'download.symanteconline.net', 'image.todayusa.org', 'update.yahoodaily.com', 'smtp.jobsadvanced.com', 'plane.usabbs.org', 'email.symanteconline.net', 'ftp.pop-musicsite.com', 'medicine.yahoodaily.com', 'mail.mcafeepaying.com', 'weather.yahoodaily.com', 'security.mcafeepaying.com', 'weather.usnewssite.com', 'suffering.pop-musicsite.com', 'fax.newsonlinesite.com', 'solar.pop-musicsite.com', 'fax.jobsadvanced.com', 'fileshare.usabbs.org', 'www.voiceofman.com', 'smtp.symanteconline.net', 'pop.symanteconline.net', 'info.usnewssite.com', 'share.usnewssite.com', 'skills.usnewssite.com', 'mcafeepaying.com', 'jobsadvanced.com', 'update.nationtour.net', 'cw.mcafeepaying.com', 'todayusa.org', 'energy.mcafeepaying.com', 'update.symanteconline.net', 'mail.micyuisyahooapis.com']}\n",
        "{'LatLon': ['33.6119', '-111.8906'], 'Locale': 'United States', 'ASN IP': '50.63.202.62', 'ASN': '26496', 'FQDN': ['aolon1ine.com', 'mail.lksoftvc.net', 'tfxdccssl.net', 'mediaxsds.net', 'webmail.applesoftupdate.com', 'news.aolon1ine.com', 'email.applesoftupdate.com', 'www.aolon1ine.com', 'www.bigish.net', 'pda.applesoftupdate.com', 'pcclubddk.net', 'edit.aolon1ine.com', 'login.aolon1ine.com', 'pop.applesoftupdate.com', 'lksoftvc.net', 'sportreadok.net', 'applesoftupdate.com', 'www.applesoftupdate.com', 'e.applesoftupdate.com', 'ftp.applesoftupdate.com', 'regicsgf.net', 'nirvanaol.com', 'cache.aolon1ine.com', 'smtp.applesoftupdate.com', 'mail.applesoftupdate.com']}\n",
        "{'LatLon': ['33.8359', '-118.3406'], 'Locale': 'United States', 'ASN IP': '173.254.222.138', 'ASN': '29761', 'FQDN': ['infobusinessus.org']}\n",
        "{'LatLon': ['39.7157', '-75.5281'], 'Locale': 'United States', 'ASN IP': '192.31.186.119', 'ASN': '32421', 'FQDN': ['www.usapappers.com', 'hugesoft.org', 'usapappers.com']}\n",
        "{'LatLon': ['41.7444', '-87.6054'], 'Locale': 'United States', 'ASN IP': '74.93.92.50', 'ASN': '33491', 'FQDN': ['shot.newspappers.org', 'info.saltlakenews.org', 'wow.saltlakenews.org', 'sun.newspappers.org', 'web.saltlakenews.org', 'sys.newspappers.org', 'info.newspappers.org', 'webs.newspappers.org', 'news.saltlakenews.org', 'bee.newspappers.org', 'web.newspappers.org', 'news.newspappers.org', 'root.newspappers.org', 'wow.newspappers.org', 'root.saltlakenews.org']}\n",
        "{'LatLon': ['38.0000', '-97.0000'], 'Locale': 'United States', 'ASN IP': '209.247.221.40', 'ASN': '3356', 'FQDN': ['anglo.arrowservice.net']}\n",
        "{'LatLon': ['34.0533', '-118.2549'], 'Locale': 'United States', 'ASN IP': '208.73.211.165', 'ASN': '33626', 'FQDN': ['webmail.ustvb.com', 'support.advanbusiness.com', 'smtp.advanbusiness.com', 'software.advanbusiness.com', 'help.advanbusiness.com', 'www.advanbusiness.com', 'mail.advanbusiness.com', 'del.advanbusiness.com', 'psp.advanbusiness.com', 'ftp.ustvb.com', 'ustvb.com', 'webmail.advanbusiness.com', 'email.advanbusiness.com', 'mail.ustvb.com', 'news.advanbusiness.com', 'www.comtoway.com', 'stars.advanbusiness.com', 'web.advanbusiness.com', 'financial.advanbusiness.com', 'update.advanbusiness.com', 'pop.advanbusiness.com', 'sale.advanbusiness.com', 'e.advanbusiness.com', 'soft.advanbusiness.com', 'advanbusiness.com', 'ftp.advanbusiness.com', 'www.ustvb.com']}\n",
        "{'LatLon': ['51.5142', '-0.0931'], 'Locale': 'United Kingdom', 'ASN IP': '46.37.164.184', 'ASN': '34934', 'FQDN': ['backsun.busketball.com', 'backupsw.infobusinessus.org', 'adtkl.bigish.net']}\n",
        "{'LatLon': ['39.4899', '-74.4773'], 'Locale': 'United States', 'ASN IP': '50.116.42.33', 'ASN': '3595', 'FQDN': ['ks.cnndaily.com', 'wangye.e-cardsshop.com', 'pop.aoldaily.com', 'www.syscation.com', 'smtp.canoedaily.com', 'email.aoldaily.com', 'mail.canadatvsite.com', 'geology.e-cardsshop.com', 'www.aoldaily.com', 'info.aoldaily.com', 'info.defenceonline.net', 'media.cnndaily.com', 'security.canadatvsite.com', 'wish.e-cardsshop.com', 'www.hvmetal.com', 'zone.canoedaily.com', 'e.aoldaily.com', 'suffering.e-cardsshop.com', 'syscation.com', 'update.aoldaily.com', 'cnndaily.com', 'e.aunewsonline.com', 'webmail.canoedaily.com', 'finance.aunewsonline.com', 'news.aoldaily.com', 'pay.aunewsonline.com', 'blackfish.defenceonline.net', 'documents.aunewsonline.com', 'pop.e-cardsshop.com', 'cw.e-cardsshop.com', 'information.aunewsonline.com', 'ftp.e-cardsshop.com', 'email.cnndaily.net', 'ftp.defenceonline.net', 'documents.aoldaily.com', 'e-cardsshop.com', 'smtp.canadatvsite.com', 'webmail.cnndaily.com', 'smtp.aunewsonline.com', 'smtp.defenceonline.net', 'sells.aunewsonline.com', 'pop.canoedaily.com', 'international.canadatvsite.com', 'europe.canadatvsite.com', 'work.canoedaily.com', 'flash.aunewsonline.com', 'solar.e-cardsshop.com', 'airplane.defenceonline.net', 'star.canoedaily.com', 'game.aoldaily.com', 'mail.e-cardsshop.com', 'media.aunewsonline.com', 'share.aunewsonline.com', 'pop.cnndaily.net', 'business.aunewsonline.com', 'sports.canoedaily.com', 'movie.canadatvsite.com', 'update.defenceonline.net', 'ks.aoldaily.com', 'pop.aunewsonline.com', 'law.canoedaily.com', 'sports.aunewsonline.com', 'philippines.cnndaily.com', 'usnftc.org', 'mail.canoedaily.com', 'travel.cnndaily.net', 'share.aoldaily.com', 'image.aunewsonline.com', 'mail.defenceonline.net', 'smtp.cnndaily.com', 'ftp.canadatvsite.com', 'space.canadatvsite.com', 'mail.cnndaily.com', 'pop.canadatvsite.com', 'defenceonline.net', 'news.canoedaily.com', 'information.defenceonline.net', 'hvmetal.com', 'www.cnndaily.com', 'news.cnndaily.com', 'us.cnndaily.com', 'happy.e-cardsshop.com', 'marines.defenceonline.net', 'www.canoedaily.com', 'copporationnews.com', 'webmail.aunewsonline.com', 'week.canadatvsite.com', 'shop.e-cardsshop.com', 'aoldaily.com', 'cnndaily.net', 'canoedaily.com', 'email.defenceonline.net', 'sns.syscation.com', 'mail.aoldaily.com', 'indian.e-cardsshop.com', 'function.canadatvsite.com', 'ftp.aunewsonline.com', 'www.cnndaily.net', 'aunewsonline.com', 'files.cnndaily.com', 'fax.defenceonline.net', 'www.canadatvsite.com', 'sky.canoedaily.com', 'smtp.aoldaily.com', 'e.cnndaily.com', 'www.aunewsonline.com', 'week.canoedaily.com', 'smtp.e-cardsshop.com', 'football.canoedaily.com', 'ftp.cnndaily.net', 'funny.canadatvsite.com', 'flash.aoldaily.com', 'smtp.cnndaily.net', 'safety.canadatvsite.com', 'company.canadatvsite.com', 'e.canoedaily.com', 'media.aoldaily.com', 'fax.cnndaily.net', 'ftp.aoldaily.com', 'update.aunewsonline.com', 'canada.cnndaily.com', 'documents.cnndaily.com', 'www.defenceonline.net', 'information.cnndaily.com', 'flash.cnndaily.com', 'email.aunewsonline.com', 'finance.aoldaily.com', 'documents.e-cardsshop.com', 'share.canoedaily.com', 'auto.aoldaily.com', 'canadatvsite.com', 'news.defenceonline.net', 'pop.defenceonline.net', 'email.e-cardsshop.com', 'email.canoedaily.com', 'ftp.cnndaily.com', 'ftp.canoedaily.com', 'submarine.defenceonline.net', 'europa.cnndaily.com', 'news.canadatvsite.com', 'weather.aunewsonline.com', 'skills.cnndaily.com', 'news.e-cardsshop.com', 'pop.cnndaily.com', 'www.copporationnews.com', 'webmail.aoldaily.com', 'email.cnndaily.com', 'mail.aunewsonline.com', 'mail.cnndaily.net', 'fax.canadatvsite.com', 'ks.aunewsonline.com', 'safe.canadatvsite.com', 'ares.aunewsonline.com', 'country.canadatvsite.com', 'sports.aoldaily.com', 'energy.e-cardsshop.com', 'zone.aoldaily.com', 'www.e-cardsshop.com', 'email.canadatvsite.com', 'work.canadatvsite.com', 'bluefin.aunewsonline.com', 'fax.e-cardsshop.com']}\n",
        "{'LatLon': ['32.9299', '-96.8353'], 'Locale': 'United States', 'ASN IP': '75.126.166.204', 'ASN': '36351', 'FQDN': ['attnpower.com', 'www.tibethome.org', 'tibethome.org', 'www.attnpower.com']}\n",
        "{'LatLon': ['1.3667', '103.8000'], 'Locale': 'Singapore', 'ASN IP': '54.254.124.68', 'ASN': '38895', 'FQDN': ['www.microsoft-update-info.com', 'nh.microsoft-update-info.com', 's.microsoft-update-info.com', 'e.microsoft-update-info.com', 'microsoft-update-info.com']}\n",
        "{'LatLon': ['34.0463', '-117.9849'], 'Locale': 'United States', 'ASN IP': '216.99.150.35', 'ASN': '40676', 'FQDN': ['house.gmailboxes.com', 'adtkl.gmailboxes.com']}\n",
        "{'LatLon': ['38.0000', '-97.0000'], 'Locale': 'United States', 'ASN IP': '207.250.229.88', 'ASN': '4323', 'FQDN': ['www.doemarkennel.com']}"
       ]
      },
      {
       "output_type": "stream",
       "stream": "stdout",
       "text": [
        "\n",
        "{'LatLon': ['32.7791', '-96.8028'], 'Locale': 'United States', 'ASN IP': '64.31.42.235', 'ASN': '46475', 'FQDN': ['www.gmailboxes.com']}\n",
        "{'LatLon': ['40.2181', '-111.6133'], 'Locale': 'United States', 'ASN IP': '74.220.199.7', 'ASN': '46606', 'FQDN': ['competrip.com', 'www.widewebsense.com', 'giftnews.org', 'www.bluecoate.com', 'www.giftnews.org', 'www.newsesport.com', 'newsesport.com', 'www.competrip.com', 'bluecoate.com']}\n",
        "{'LatLon': ['40.7143', '-74.0060'], 'Locale': 'United States', 'ASN IP': '198.199.78.132', 'ASN': '46652', 'FQDN': ['smtp.downloadsite.me', 'pop.staycools.net', 'www.freshreaders.net', 'update.staycools.net', 'pop.downloadsite.me', 'news.downloadsite.me', 'sale.staycools.net', 'film.downloadsite.me', 'www.syscation.net', 'weather.freshreaders.net', 'citt.downloadsite.me', 'information.downloadsite.me', 'documents.downloadsite.me', 'downloadsite.me', 'check.staycools.net', 'news.freshreaders.net', 'ftp.staycools.net', 'once.downloadsite.me', 'e.staycools.net', 'west.freshreaders.net', 'ftp.downloadsite.me', 'int.freshreaders.net', 'fax.downloadsite.me', 'www.staycools.net', 'pay.freshreaders.net', 'date.freshreaders.net', 'nod.downloadsite.me', 'psp.staycools.net', 'sky.downloadsite.me', 'east.freshreaders.net', 'news.staycools.net', 'home.staycools.net', 'sports.staycools.net', 'finance.staycools.net', 'weather.staycools.net', 'info.freshreaders.net', 'sns.syscation.net', 'update.downloadsite.me', 'mail.downloadsite.me', 'files.downloadsite.me', 'www.downloadsite.me', 'lib.freshreaders.net', 'logo.staycools.net', 'mail2.syscation.net', 'logo.freshreaders.net', 'email.downloadsite.me', 'update.freshreaders.net', 'download.freshreaders.net', 'magazine.downloadsite.me', 'submarine.downloadsite.me', 'pda.staycools.net']}\n",
        "{'LatLon': ['31.0456', '121.3997'], 'Locale': 'China', 'ASN IP': '222.73.15.115', 'ASN': '4812', 'FQDN': ['xinge3344.cccpan.com', 'xinge3344.ys168.com']}\n",
        "{'LatLon': ['52.5000', '5.7500'], 'Locale': 'Netherlands', 'ASN IP': '77.95.231.143', 'ASN': '49544', 'FQDN': ['wnew.businessconsults.net']}\n",
        "{'LatLon': ['46.0000', '25.0000'], 'Locale': 'Romania', 'ASN IP': '78.95.63.1', 'ASN': '51474', 'FQDN': ['dns.infobusinessus.org', 'crab.infobusinessus.org', 'wgl.infobusinessus.org', 'jwss.infobusinessus.org', 'client.infobusinessus.org', 'down.infobusinessus.org', 'can.infobusinessus.org', 'black.infobusinessus.org', 'bcc.infobusinessus.org', 'bhbt.infobusinessus.org', 'alarm.infobusinessus.org', 'backup.infobusinessus.org', 'back.infobusinessus.org', 'app.infobusinessus.org', 'cool.infobusinessus.org', 'banner.infobusinessus.org', 'lw.infobusinessus.org', 'ak47.infobusinessus.org', 'gaca.infobusinessus.org', 'forum.infobusinessus.org', 'buy.infobusinessus.org', 'chat.infobusinessus.org', 'gg.infobusinessus.org']}\n",
        "{'LatLon': ['65.0000', '-18.0000'], 'Locale': 'Iceland', 'ASN IP': '46.149.19.26', 'ASN': '51969', 'FQDN': ['ou4.infosupports.com', 'mail.infosupports.com', 'qusc12.infosupports.com', 'sslsrv2.infosupports.com', 'blue.infosupports.com', 'half.infosupports.com', 'lrl.infosupports.com', 'lone.infosupports.com', 'myfamily.infosupports.com', 'bat.infosupports.com', 'top.ifexcel.com', 'pear.infosupports.com', 'news.infosupports.com', 'ou6.infosupports.com', 'bab.infosupports.com', 'pop2.infosupports.com', 'ou2.infosupports.com', 'des.infosupports.com', 'www1.infosupports.com', 'sslsrv5.infosupports.com', 'man001.infosupports.com', 'ground.infosupports.com', 'add.infosupports.com', 'ara.infosupports.com', 'lucy2.infosupports.com', 'irl.infosupports.com', 'ou.infosupports.com', 'www.ifexcel.com', 'm.ifexcel.com', '3ml.infosupports.com', 'gannett.infosupports.com', 'slrouji.infosupports.com', 'moon.infosupports.com', 'ou7.infosupports.com', 'ou5.infosupports.com', 'e.ifexcel.com', 'alone.infosupports.com', 'apa.infosupports.com', 'wed5.infosupports.com', 'o.ifexcel.com', 'pop9.infosupports.com', 'yang.infosupports.com', 'ftph.infosupports.com', 'addr.infosupports.com', 'yang2.infosupports.com', 'ara2.infosupports.com', 'ifexcel.com', 'smtp.infosupports.com', 'apple.infosupports.com', 'via.infosupports.com', 'center.infosupports.com', 'gmail.infosupports.com', 'iri.infosupports.com', 'portbab.infosupports.com', 'infosupports.com', 'popw.infosupports.com', 'ou1.infosupports.com', 'dvid.infosupports.com', 'pop6.infosupports.com', 'login.infosupports.com', 'dyns.infosupports.com', 'sslsrv1.infosupports.com', 'aes.infosupports.com', 'srs.infosupports.com', 'sam.infosupports.com', 's.ifexcel.com', 'web.infosupports.com', 'arainfo.infosupports.com', 'backup.infosupports.com', 'pop.infosupports.com', 'opp.infosupports.com', 'sslsrv6.infosupports.com', 'vol.infosupports.com', 'red.infosupports.com', 'carvin.infosupports.com', 'wwwt.infosupports.com', 'net.infosupports.com', 'log.infosupports.com', 'pop3.infosupports.com', 'newport.infosupports.com', 'business.infosupports.com', 'kit.infosupports.com', 'csch.infosupports.com', 'fwb.infosupports.com', 'url.infosupports.com', 'intel.infosupports.com', 'protoc.infosupports.com', 'yang1.infosupports.com', 'ou3.infosupports.com', 'stk.infosupports.com']}\n",
        "{'LatLon': ['40.7391', '-73.9826'], 'Locale': 'United States', 'ASN IP': '199.59.243.107', 'ASN': '53665', 'FQDN': ['www.businessformars.com']}"
       ]
      },
      {
       "output_type": "stream",
       "stream": "stdout",
       "text": [
        "\n",
        "{'LatLon': ['37.3887', '-122.0188'], 'Locale': 'United States', 'ASN IP': '142.4.96.114', 'ASN': '54600', 'FQDN': ['ecli-cow.infobusinessus.org']}\n",
        "{'LatLon': ['39.9612', '-82.9988'], 'Locale': 'United States', 'ASN IP': '137.95.64.123', 'ASN': '552', 'FQDN': ['gsup.infobusinessus.org']}\n",
        "{'LatLon': ['38.9266', '-77.3936'], 'Locale': 'United States', 'ASN IP': '205.178.189.129', 'ASN': '6245', 'FQDN': ['www.jjpopp.com']}\n",
        "{'LatLon': ['37.7731', '-121.7515'], 'Locale': 'United States', 'ASN IP': '66.160.197.118', 'ASN': '6939', 'FQDN': ['fire.firefoxupdata.com', 'movies.infobusinessus.org', 'fire1.firefoxupdata.com']}\n",
        "{'LatLon': ['27.8959', '-82.6720'], 'Locale': 'United States', 'ASN IP': '198.143.231.107', 'ASN': '6983', 'FQDN': ['download.firefoxupdata.com']}\n",
        "{'LatLon': ['38.0000', '-97.0000'], 'Locale': 'United States', 'ASN IP': '63.197.94.99', 'ASN': '7132', 'FQDN': ['images.spmiller.org']}\n",
        "{'LatLon': ['34.0530', '-118.2642'], 'Locale': 'United States', 'ASN IP': '216.240.128.229', 'ASN': '7796', 'FQDN': ['phoenixtvus.com', 'www.phoenixtvus.com', 'youipcam.com', 'www.youipcam.com']}\n",
        "{'LatLon': ['39.4899', '-74.4773'], 'Locale': 'United States', 'ASN IP': '192.155.90.150', 'ASN': '8001', 'FQDN': ['onefastgame.net']}\n",
        "{'LatLon': ['38.0000', '-97.0000'], 'Locale': 'United States', 'ASN IP': '207.46.31.61', 'ASN': '8075', 'FQDN': ['smtp.msnhome.org', 'popwk.msnhome.org', 'down.msnhome.org', 'set.msnhome.org', 'step.msnhome.org', 'msnhome.org', 'e.msnhome.org', 'moto.msnhome.org', 'ug-bdai.msnhome.org', 'x-admin.msnhome.org', 'pda.msnhome.org', 'x-book.msnhome.org', 'shop.msnhome.org', 'via.msnhome.org', 'lan.msnhome.org', 'tclient.msnhome.org', 'love.msnhome.org', 'more.msnhome.org', 'office.msnhome.org', 'food.msnhome.org', 'flash.msnhome.org', 'support.msnhome.org', 'lab.msnhome.org', 'sslsrv5.msnhome.org', 'safe.msnhome.org', 'commpany.msnhome.org', 'home.msnhome.org', 'ak47.msnhome.org', 'sklcenter.msnhome.org', 'time.msnhome.org', 'rj.msnhome.org', 'na.msnhome.org', 'ug-hst.msnhome.org', 'ce-ip.msnhome.org', 'weblog.msnhome.org', 'video.msnhome.org', 'lost.msnhome.org', 'info.msnhome.org', 'telnet.msnhome.org', 'news.msnhome.org', 'buy.msnhome.org', 'update.msnhome.org', 'messenger.msnhome.org', 'mysql.msnhome.org', 'chat.msnhome.org', 'mail.msnhome.org', 'u-rfc.msnhome.org', 'sp.msnhome.org', 'webmail.msnhome.org', 'backup.msnhome.org', 'meily.msnhome.org', 'opts.msnhome.org', 'music.msnhome.org', 'www.msnhome.org', 'train.msnhome.org', 'black.msnhome.org', 'online.msnhome.org', 'shit.msnhome.org', 'wins.msnhome.org', 'zone.msnhome.org', 'trip.msnhome.org', 'ground.msnhome.org', 'pop.msnhome.org', 'ftp.msnhome.org', 'iabk.msnhome.org', 'dyn.msnhome.org', 'safety.msnhome.org', 'ysb.msnhome.org', 'crab.msnhome.org', 'lw.msnhome.org', 'test.msnhome.org', 'klcocon.msnhome.org', 'fim.msnhome.org', 'https.msnhome.org', 'froum.msnhome.org', 'www3.msnhome.org', 'xwclient.msnhome.org', 'nhs1.msnhome.org', 'sword.msnhome.org', 'travel.msnhome.org']}\n",
        "{'LatLon': ['51.0000', '9.0000'], 'Locale': 'Germany', 'ASN IP': '87.106.250.34', 'ASN': '8560', 'FQDN': ['quiet.earthsolution.org', 'snoot.earthsolution.org', 'vopm.earthsolution.org', 'num.safalife.com', 'clin.earthsolution.org', 'arainfo.bigdepression.net', 'a-he.softsolutionbox.net', 'inter.earthsolution.org', 'nci.safalife.com', 'vseh.earthsolution.org', 'bbh.dnsweb.org', 'pop.dnsweb.org', 'saf.globalowa.com', 'smtp.safalife.com', 'bll.dnsweb.org', 'softsolutionbox.net', 'aol.softsolutionbox.net', 'otps.globalowa.com', 'mfa.globalowa.com', 'agl.softsolutionbox.net', 'release.softsolutionbox.net', 'globalowa.com', 'avph.earthsolution.org', 'part.earthsolution.org', 'www2.bigdepression.net', 'ground.earthsolution.org', 'spahi.dnsweb.org', 'egcc.bigdepression.net', 'proc.blackberrycluter.com', 'back.earthsolution.org', 'oppa.bigdepression.net', 'bcc.blackberrycluter.com', 'qual.bigdepression.net', 'spah.earthsolution.org', 'blackberrycluter.com', 'ctcs.earthsolution.org', 'hill.earthsolution.org', 'lucie.dnsweb.org', 'saf.blackberrycluter.com', 'comfile.softsolutionbox.net', 'fineca.blackberrycluter.com', 'yang1.bigdepression.net', 'car1.bigdepression.net', 'qedh.earthsolution.org', 'gmail.bigdepression.net', 'wpvn.softsolutionbox.net', 'tape.dnsweb.org', 'wwwi.earthsolution.org', 'news.softsolutionbox.net', 'sav.safalife.com', 'apa.safalife.com', 'nic.safalife.com', 'motor.earthsolution.org', 'newport.safalife.com', 'qiao7.bigdepression.net', 'ctcs.bigdepression.net', 'slrj.softsolutionbox.net', 'www.globalowa.com', 'srs.dnsweb.org', 'qiao8.bigdepression.net', 'dnsweb.org', 'doa.bigdepression.net', 'citrix.globalowa.com', 'earthsolution.org', 'research.softsolutionbox.net', 'dnsg.bigdepression.net', 'nat.bigdepression.net', 'kllhd.globalowa.com', 'house.globalowa.com', 'ghma.earthsolution.org', 'nci.bigdepression.net', 'moto2.earthsolution.org', 'jhd.safalife.com', 'knews.bigdepression.net', 'qiao1.bigdepression.net', 'bot.bigdepression.net', 'aar.bigdepression.net', 'bob.dnsweb.org', 'nci.dnsweb.org', 'velp.earthsolution.org', 'yard.earthsolution.org', 'unifh.earthsolution.org', 'slutc.globalowa.com', 'mail.softsolutionbox.net', 'log.bigdepression.net', 'news.bigdepression.net', 'qiao2.bigdepression.net', 'klape.globalowa.com', 'pdoc.earthsolution.org', 'westkl.blackberrycluter.com', 'klbis.globalowa.com', 'iswb.softsolutionbox.net', 'update.safalife.com', 'qiao6.bigdepression.net', 'vsec.bigdepression.net', 'compfile.softsolutionbox.net', 'asp.softsolutionbox.net', 'qiao5.bigdepression.net', 'parth.earthsolution.org', 'na.bigdepression.net', 'hon.bigdepression.net', 'down.safalife.com', 'local.dnsweb.org', 'sports3.earthsolution.org', 'update.dnsweb.org', 'bigdepression.net', 'ushongkong.org', 'control.blackberrycluter.com', 'www1.earthsolution.org', 'sfn.globalowa.com', 'owa.softsolutionbox.net', 'qiao4.bigdepression.net', 'gee.safalife.com', 'hotel.safalife.com', 'sonah.earthsolution.org', 'aps.bigdepression.net', 'info.softsolutionbox.net', 'vpn.softsolutionbox.net', 'admin.datastorage01.org', 'login.safalife.com', 'new.globalowa.com', 'jeph.earthsolution.org', 'navi.earthsolution.org', 'otp.blackberrycluter.com', 'bat.bigdepression.net', 'mlls.globalowa.com', 'sky.safalife.com', 'java.earthsolution.org', 'orient.earthsolution.org', 'www.ushongkong.org', 'news.dnsweb.org', 'webmail.softsolutionbox.net', 'lhd.globalowa.com', 'www1.bigdepression.net', 'asiv.softsolutionbox.net', 'dod.dnsweb.org', 'kit.dnsweb.org', 'newport.bigdepression.net', 'vop.earthsolution.org', 'ncih.dnsweb.org', 'hav.earthsolution.org', 'news.safalife.com', 'aarco.bigdepression.net', 'daa.bigdepression.net', 'part.bigdepression.net', 'safalife.com', 'ass.globalowa.com', 'special.earthsolution.org', 'admin.softsolutionbox.net', 'catalog.earthsolution.org', 'lucy.bigdepression.net', 'cadfait.softsolutionbox.net', 'green.safalife.com', 'www.ueopen.com', 'pars.earthsolution.org', 'argsafhq.blackberrycluter.com', 'up.safalife.com', 'xawh.earthsolution.org', 'bat.safalife.com', 'yang.bigdepression.net', 'snoopy.safalife.com', 'kl-vfw.globalowa.com', 'scc.globalowa.com', 'crz.dnsweb.org', 'qiao3.bigdepression.net', 'global.softsolutionbox.net', 'dotnet.safalife.com', 'quick.earthsolution.org', 'afw.globalowa.com', 'qiao1.safalife.com', 'ins.globalowa.com', 'people.softsolutionbox.net', 'spte.bigdepression.net', 'half.earthsolution.org', 'dias.globalowa.com', 'cacq.bigdepression.net', 'utex.earthsolution.org', 'vpn.globalowa.com', 'cook.globalowa.com', 'mail.safalife.com', 'cac.bigdepression.net', 'visual.earthsolution.org']}\n",
        "{'LatLon': ['22.2833', '114.1500'], 'Locale': 'Hong Kong', 'ASN IP': '202.155.223.99', 'ASN': '9381', 'FQDN': ['sync.ns06.net', 'method.ns06.net']}\n"
       ]
      }
     ],
     "prompt_number": 5
    },
    {
     "cell_type": "code",
     "collapsed": false,
     "input": [],
     "language": "python",
     "metadata": {},
     "outputs": []
    }
   ],
   "metadata": {}
  }
 ]
}